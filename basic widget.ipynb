{
 "cells": [
  {
   "cell_type": "code",
   "execution_count": 1,
   "metadata": {},
   "outputs": [
    {
     "data": {
      "application/javascript": [
       "IPython.notebook.set_autosave_interval(0)"
      ]
     },
     "metadata": {},
     "output_type": "display_data"
    },
    {
     "name": "stdout",
     "output_type": "stream",
     "text": [
      "Autosave disabled\n"
     ]
    }
   ],
   "source": [
    "%autosave 0"
   ]
  },
  {
   "cell_type": "code",
   "execution_count": 1,
   "metadata": {},
   "outputs": [],
   "source": [
    "import fivestar"
   ]
  },
  {
   "cell_type": "code",
   "execution_count": 5,
   "metadata": {},
   "outputs": [
    {
     "data": {
      "application/javascript": [
       "require.undef('messager');\n",
       "\n",
       "define('messager', ['@jupyter-widgets/base'], function (widgets) {\n",
       "  var Messager = widgets.DOMWidgetView.extend({\n",
       "    render: function () {\n",
       "      this.messageChanged();\n",
       "      this.model.on('changed:message', this.messageChanged, this);\n",
       "    },\n",
       "\n",
       "    messageChanged: function () {\n",
       "      this.el.textContent = this.model.get('message');\n",
       "    }\n",
       "  });\n",
       "\n",
       "  return {\n",
       "    Messager: Messager\n",
       "  }\n",
       "});\n"
      ],
      "text/plain": [
       "<IPython.core.display.Javascript object>"
      ]
     },
     "metadata": {},
     "output_type": "display_data"
    }
   ],
   "source": [
    "w1 = fivestar.Messager()\n",
    "w1"
   ]
  },
  {
   "cell_type": "code",
   "execution_count": 6,
   "metadata": {},
   "outputs": [],
   "source": [
    "w1.message = 'bon jour, le monde'\n",
    "w1"
   ]
  },
  {
   "cell_type": "code",
   "execution_count": 7,
   "metadata": {},
   "outputs": [
    {
     "data": {
      "application/javascript": [
       "require.undef('messager');\n",
       "\n",
       "define('messager', ['@jupyter-widgets/base'], function (widgets) {\n",
       "  var Messager = widgets.DOMWidgetView.extend({\n",
       "    render: function () {\n",
       "      this.messageChanged();\n",
       "      this.model.on('changed:message', this.messageChanged, this);\n",
       "    },\n",
       "\n",
       "    messageChanged: function () {\n",
       "      this.el.textContent = this.model.get('message');\n",
       "    }\n",
       "  });\n",
       "\n",
       "  return {\n",
       "    Messager: Messager\n",
       "  }\n",
       "});\n"
      ],
      "text/plain": [
       "<IPython.core.display.Javascript object>"
      ]
     },
     "metadata": {},
     "output_type": "display_data"
    }
   ],
   "source": [
    "w2 = fivestar.Messager('guten tag, welt')\n",
    "w2"
   ]
  }
 ],
 "metadata": {
  "kernelspec": {
   "display_name": "Python 2",
   "language": "python",
   "name": "python2"
  },
  "language_info": {
   "codemirror_mode": {
    "name": "ipython",
    "version": 2
   },
   "file_extension": ".py",
   "mimetype": "text/x-python",
   "name": "python",
   "nbconvert_exporter": "python",
   "pygments_lexer": "ipython2",
   "version": "2.7.13"
  }
 },
 "nbformat": 4,
 "nbformat_minor": 2
}
