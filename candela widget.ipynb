{
 "cells": [
  {
   "cell_type": "code",
   "execution_count": 1,
   "metadata": {},
   "outputs": [
    {
     "data": {
      "application/javascript": [
       "IPython.notebook.set_autosave_interval(0)"
      ]
     },
     "metadata": {},
     "output_type": "display_data"
    },
    {
     "name": "stdout",
     "output_type": "stream",
     "text": [
      "Autosave disabled\n"
     ]
    }
   ],
   "source": [
    "%autosave 0"
   ]
  },
  {
   "cell_type": "code",
   "execution_count": 1,
   "metadata": {},
   "outputs": [],
   "source": [
    "import fivestar"
   ]
  },
  {
   "cell_type": "code",
   "execution_count": 7,
   "metadata": {},
   "outputs": [],
   "source": [
    "fivestar.load('node_modules/candela/dist/candela', 'candela')"
   ]
  },
  {
   "cell_type": "code",
   "execution_count": 8,
   "metadata": {},
   "outputs": [
    {
     "data": {
      "application/javascript": [
       "require.undef('CandelaLineChart');\n",
       "\n",
       "require.config({\n",
       "  baseUrl: '/files'\n",
       "});\n",
       "\n",
       "define('CandelaLineChart', ['@jupyter-widgets/base', 'candela'], function (widgets, candela) {\n",
       "  console.log('candela', candela);\n",
       "\n",
       "  var CandelaLineChart = widgets.DOMWidgetView.extend({\n",
       "    initialize: function () {\n",
       "      console.log('constructor', arguments);\n",
       "\n",
       "      var data = [];\n",
       "      for (var i = -5; i < 5; i += 0.1) {\n",
       "        data.push({\n",
       "          x: i,\n",
       "          y: i * i - 2\n",
       "        });\n",
       "      }\n",
       "\n",
       "      this.vis = new candela.components.LineChart(this.el, {\n",
       "        data: data,\n",
       "        x: 'x',\n",
       "        y: 'y'\n",
       "      });\n",
       "    },\n",
       "\n",
       "    render: function () {\n",
       "      // this.el.textContent = 'hello from candela';\n",
       "      this.vis.render();\n",
       "    }\n",
       "  });\n",
       "\n",
       "  return {\n",
       "    CandelaLineChart: CandelaLineChart\n",
       "  };\n",
       "});\n"
      ],
      "text/plain": [
       "<IPython.core.display.Javascript object>"
      ]
     },
     "metadata": {},
     "output_type": "display_data"
    }
   ],
   "source": [
    "x = fivestar.CandelaLineChart()\n",
    "x"
   ]
  }
 ],
 "metadata": {
  "kernelspec": {
   "display_name": "Python 2",
   "language": "python",
   "name": "python2"
  },
  "language_info": {
   "codemirror_mode": {
    "name": "ipython",
    "version": 2
   },
   "file_extension": ".py",
   "mimetype": "text/x-python",
   "name": "python",
   "nbconvert_exporter": "python",
   "pygments_lexer": "ipython2",
   "version": "2.7.13"
  }
 },
 "nbformat": 4,
 "nbformat_minor": 2
}
